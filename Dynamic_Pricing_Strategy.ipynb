{
  "nbformat": 4,
  "nbformat_minor": 0,
  "metadata": {
    "colab": {
      "provenance": []
    },
    "kernelspec": {
      "name": "python3",
      "display_name": "Python 3"
    },
    "language_info": {
      "name": "python"
    }
  },
  "cells": [
    {
      "cell_type": "code",
      "execution_count": null,
      "metadata": {
        "id": "-GHUQhRvw9Fz"
      },
      "outputs": [],
      "source": [
        "import pandas as pd\n",
        "import plotly.express as px\n",
        "import plotly.graph_objects as go\n",
        "\n",
        "data = pd.read_csv(\"dynamic_pricing.csv\")\n",
        "print(data.head())"
      ]
    },
    {
      "cell_type": "code",
      "source": [
        "print(data.describe())"
      ],
      "metadata": {
        "id": "hBKb3D2pxLfv"
      },
      "execution_count": null,
      "outputs": []
    },
    {
      "cell_type": "code",
      "source": [
        "fig = px.scatter(data, x='Expected_Ride_Duration',\n",
        "                 y='Historical_Cost_of_Ride',\n",
        "                 title='Expected Ride Duration vs. Historical Cost of Ride',\n",
        "                 trendline='ols')\n",
        "fig.show()"
      ],
      "metadata": {
        "id": "PbcH-pv7xQFA"
      },
      "execution_count": null,
      "outputs": []
    },
    {
      "cell_type": "code",
      "source": [],
      "metadata": {
        "id": "yNQPF7vvxS6Y"
      },
      "execution_count": null,
      "outputs": []
    },
    {
      "cell_type": "code",
      "source": [],
      "metadata": {
        "id": "U-qPpfWc11GA"
      },
      "execution_count": null,
      "outputs": []
    },
    {
      "cell_type": "code",
      "source": [
        "import numpy as np\n",
        "\n",
        "# Calculate demand_multiplier based on percentile for high and low demand\n",
        "high_demand_percentile = 75\n",
        "low_demand_percentile = 25\n",
        "\n",
        "\n",
        "\n",
        "# Calculate supply_multiplier based on percentile for high and low supply\n",
        "high_supply_percentile = 75\n",
        "low_supply_percentile = 25\n",
        "\n",
        "data['supply_multiplier'] = np.where(data['Number_of_Drivers'] > np.percentile(data['Number_of_Drivers'], low_supply_percentile),\n",
        "                                     np.percentile(data['Number_of_Drivers'], high_supply_percentile) / data['Number_of_Drivers'],\n",
        "                                     np.percentile(data['Number_of_Drivers'], low_supply_percentile) / data['Number_of_Drivers'])\n",
        "\n",
        "# Define price adjustment factors for high and low demand/supply\n",
        "demand_threshold_high = 1.2  # Higher demand threshold\n",
        "demand_threshold_low = 0.8  # Lower demand threshold\n",
        "supply_threshold_high = 0.8  # Higher supply threshold\n",
        "supply_threshold_low = 1.2  # Lower supply threshold\n",
        "\n",
        "# Calculate adjusted_ride_cost for dynamic pricing\n",
        "data['adjusted_ride_cost'] = data['Historical_Cost_of_Ride'] * (\n",
        "    np.maximum(data['demand_multiplier'], demand_threshold_low) *\n",
        "    np.maximum(data['supply_multiplier'], supply_threshold_high)\n",
        ")"
      ],
      "metadata": {
        "id": "vgJFlvG744FF"
      },
      "execution_count": null,
      "outputs": []
    },
    {
      "cell_type": "code",
      "source": [
        "# Calculate the profit percentage for each ride\n",
        "\n",
        "\n",
        "# Identify loss rides where profit percentage is negative\n",
        "loss_rides = data[data['profit_percentage'] < 0]\n",
        "\n",
        "\n",
        "import plotly.graph_objects as go\n",
        "\n",
        "# Calculate the count of profitable and loss rides\n",
        "profitable_count = len(profitable_rides)\n",
        "loss_count = len(loss_rides)\n",
        "\n",
        "# Create a donut chart to show the distribution of profitable and loss rides\n",
        "labels = ['Profitable Rides', 'Loss Rides']\n",
        "values = [profitable_count, loss_count]\n",
        "\n",
        "fig = go.Figure(data=[go.Pie(labels=labels, values=values, hole=0.4)])\n",
        "fig.update_layout(title='Profitability of Rides (Dynamic Pricing vs. Historical Pricing)')\n",
        "fig.show()"
      ],
      "metadata": {
        "id": "Woj_mgke4-GG"
      },
      "execution_count": null,
      "outputs": []
    },
    {
      "cell_type": "code",
      "source": [],
      "metadata": {
        "id": "h0C21UtL5GYN"
      },
      "execution_count": null,
      "outputs": []
    },
    {
      "cell_type": "code",
      "source": [
        "import pandas as pd\n",
        "import numpy as np\n",
        "from sklearn.preprocessing import StandardScaler\n",
        "\n",
        "def data_preprocessing_pipeline(data):\n",
        "    #Identify numeric and categorical features\n",
        "    numeric_features = data.select_dtypes(include=['float', 'int']).columns\n",
        "    categorical_features = data.select_dtypes(include=['object']).columns\n",
        "\n",
        "    #Handle missing values in numeric features\n",
        "    data[numeric_features] = data[numeric_features].fillna(data[numeric_features].mean())\n",
        "\n",
        "    #Detect and handle outliers in numeric features using IQR\n",
        "    for feature in numeric_features:\n",
        "        Q1 = data[feature].quantile(0.25)\n",
        "        Q3 = data[feature].quantile(0.75)\n",
        "        IQR = Q3 - Q1\n",
        "        lower_bound = Q1 - (1.5 * IQR)\n",
        "        upper_bound = Q3 + (1.5 * IQR)\n",
        "        data[feature] = np.where((data[feature] < lower_bound) | (data[feature] > upper_bound),\n",
        "                                 data[feature].mean(), data[feature])\n",
        "\n",
        "    #Handle missing values in categorical features\n",
        "    data[categorical_features] = data[categorical_features].fillna(data[categorical_features].mode().iloc[0])\n",
        "\n",
        "    return data"
      ],
      "metadata": {
        "id": "R663hhkR5J87"
      },
      "execution_count": 6,
      "outputs": []
    },
    {
      "cell_type": "code",
      "source": [],
      "metadata": {
        "id": "_E3gj3P35Nrz"
      },
      "execution_count": null,
      "outputs": []
    },
    {
      "cell_type": "code",
      "source": [],
      "metadata": {
        "id": "WIlewcJJ5QUN"
      },
      "execution_count": null,
      "outputs": []
    },
    {
      "cell_type": "code",
      "source": [
        "def get_vehicle_type_numeric(vehicle_type):\n",
        "    vehicle_type_mapping = {\n",
        "        \"Premium\": 1,\n",
        "        \"Economy\": 0\n",
        "    }\n",
        "    vehicle_type_numeric = vehicle_type_mapping.get(vehicle_type)\n",
        "    return vehicle_type_numeric\n",
        "\n",
        "# Predicting using user input values\n",
        "def predict_price(number_of_riders, number_of_drivers, vehicle_type, Expected_Ride_Duration):\n",
        "    vehicle_type_numeric = get_vehicle_type_numeric(vehicle_type)\n",
        "    if vehicle_type_numeric is None:\n",
        "        raise ValueError(\"Invalid vehicle type\")\n",
        "\n",
        "\n",
        "    return predicted_price\n",
        "\n",
        "# Example prediction using user input values\n",
        "user_number_of_riders = 50\n",
        "user_number_of_drivers = 25\n",
        "user_vehicle_type = \"Economy\"\n",
        "Expected_Ride_Duration = 30\n",
        "predicted_price = predict_price(user_number_of_riders, user_number_of_drivers, user_vehicle_type, Expected_Ride_Duration)\n",
        "print(\"Predicted price:\", predicted_price)"
      ],
      "metadata": {
        "id": "3PZY1ZP_5Tel"
      },
      "execution_count": null,
      "outputs": []
    },
    {
      "cell_type": "code",
      "source": [
        "import plotly.graph_objects as go\n",
        "\n",
        "# Predict on the test set\n",
        "y_pred = model.predict(x_test)\n",
        "\n",
        "# Create a scatter plot with actual vs predicted values\n",
        "fig = go.Figure()\n",
        "\n",
        "fig.add_trace(go.Scatter(\n",
        "    x=y_test.flatten(),\n",
        "    y=y_pred,\n",
        "    mode='markers',\n",
        "    name='Actual vs Predicted'\n",
        "))\n",
        "\n",
        "# Add a line representing the ideal case\n",
        "fig.add_trace(go.Scatter(\n",
        "    x=[min(y_test.flatten()), max(y_test.flatten())],\n",
        "    y=[min(y_test.flatten()), max(y_test.flatten())],\n",
        "    mode='lines',\n",
        "    name='Ideal',\n",
        "    line=dict(color='red', dash='dash')\n",
        "))\n",
        "\n",
        "fig.update_layout(\n",
        "    title='Actual vs Predicted Values',\n",
        "    xaxis_title='Actual Values',\n",
        "    yaxis_title='Predicted Values',\n",
        "    showlegend=True,\n",
        ")\n",
        "\n",
        "fig.show()"
      ],
      "metadata": {
        "id": "SH2f1PCn5WuV"
      },
      "execution_count": null,
      "outputs": []
    },
    {
      "cell_type": "code",
      "source": [],
      "metadata": {
        "id": "6N0mQAUC5Zui"
      },
      "execution_count": null,
      "outputs": []
    }
  ]
}